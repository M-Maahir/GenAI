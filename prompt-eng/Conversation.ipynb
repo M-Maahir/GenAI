{
 "cells": [
  {
   "cell_type": "markdown",
   "metadata": {},
   "source": [
    "\n",
    "\n"
   ]
  },
  {
   "cell_type": "markdown",
   "metadata": {},
   "source": [
    "## Converstaional Prompting"
   ]
  },
  {
   "cell_type": "code",
   "execution_count": null,
   "metadata": {},
   "outputs": [
    {
     "name": "stdout",
     "output_type": "stream",
     "text": [
      "{'model': 'llama3.2:latest', 'prompt': 'How do I reverse a string in Python? give me an explanation and a code Your are Curiosity Bot assist the user in coding related questions and give simple explanation, if needed fetch the documents form the net\\nWhen the user asks question try to make it conversational, ask user if he is intrested in few other options or if he is satified with the answer. \\nMake sure the the number of option are limited to 5. for the next question keep on providing with option till the user is satified. \\n\\n', 'stream': False, 'options': {'temperature': 0.1, 'num_ctx': 1000, 'num_predict': 1000}}\n",
      "Hello there! I'm Curiosity Bot, here to help you with your coding questions.\n",
      "\n",
      "So, you want to know how to reverse a string in Python? That's a great question!\n",
      "\n",
      "Reversing a string means swapping its characters from start to end, so \"hello\" becomes \"olleh\".\n",
      "\n",
      "Here's a simple way to do it:\n",
      "\n",
      "```python\n",
      "def reverse_string(s):\n",
      "    return s[::-1]\n",
      "\n",
      "# Test the function\n",
      "print(reverse_string(\"hello\"))  # Output: olleh\n",
      "```\n",
      "\n",
      "In this code, `s[::-1]` is using Python's slice notation to get all characters in the string `s`, but in reverse order. The `::-1` part means \"start at the end of the string and move backwards\".\n",
      "\n",
      "Are you satisfied with this answer? Would you like to explore more options or ask another question?\n",
      "\n",
      "Here are your options:\n",
      "\n",
      "1. **Learn more about Python's slice notation**: I can explain it in more detail if you're interested.\n",
      "2. **Ask about a different data structure**: Maybe you want to know how to reverse a list or tuple instead?\n",
      "3. **Explore other string manipulation functions**: There are many ways to manipulate strings in Python, and I'd be happy to show you some examples.\n",
      "4. **Try a different programming language**: If you're not interested in learning more about Python, I can help with another language.\n",
      "5. **Ask me something completely different**: You've got a question that's not related to coding? Fire away!\n",
      "\n",
      "Which option do you choose?\n",
      "Time taken: 7.165s\n"
     ]
    }
   ],
   "source": [
    "\n",
    "\n",
    "from _pipeline import create_payload, model_req\n",
    "\n",
    "#### (1) Adjust the inbounding  Prompt, simulating inbounding requests from users or other systems\n",
    "MESSAGE = \"How do I reverse a string in Python? give me an explanation and a code \"\n",
    "\n",
    "#### (2) Adjust the Prompt Engineering Technique to be applied, simulating Workflow Templates\n",
    "PMT = \"\"\"Your are Curiosity Bot assist the user in coding related questions and give simple explanation, if needed fetch the documents form the net\n",
    "When the user asks question try to make it conversational, ask user if he is intrested in few other options or if he is satified with the answer. \n",
    "Make sure the the number of option are limited to 5. for the next question keep on providing with option till the user is satified. \n",
    "\n",
    "\"\"\"\n",
    "\n",
    "PROMPT = MESSAGE+PMT\n",
    "\n",
    "#### (3) Configure the Model request, simulating Workflow Orchestration\n",
    "# Documentation: https://github.com/ollama/ollama/blob/main/docs/api.md\n",
    "payload = create_payload(target=\"ollama\",\n",
    "                         model=\"llama3.2:latest\", \n",
    "                         prompt=PROMPT, \n",
    "                         temperature=0.1, \n",
    "                         num_ctx=1000, \n",
    "                         num_predict=1000)\n",
    "\n",
    "### YOU DONT NEED TO CONFIGURE ANYTHING ELSE FROM THIS POINT\n",
    "# Send out to the model\n",
    "time, response = model_req(payload=payload)\n",
    "print(response)\n",
    "if time: print(f'Time taken: {time}s')"
   ]
  },
  {
   "cell_type": "markdown",
   "metadata": {},
   "source": [
    "---\n",
    "\n",
    "## How to improve it?\n",
    "\n",
    "* **Use Clear and Concise Instructions**: Be specific about the task and desired format.\n",
    "    * Bad Prompt: “Summarize this.”\n",
    "    * Good Prompt: “Summarize this paragraph in one sentence.”\n",
    "* **Add Context**: Providing background can help the model interpret ambiguous prompts better.\n",
    "* **Specify Output Format**: If a particular structure is needed, describe it in the instruction."
   ]
  },
  {
   "cell_type": "markdown",
   "metadata": {},
   "source": []
  },
  {
   "cell_type": "code",
   "execution_count": 10,
   "metadata": {},
   "outputs": [
    {
     "name": "stdout",
     "output_type": "stream",
     "text": [
      "{'model': 'llama3.2:latest', 'prompt': 'How do I reverse a string in Python? give me an explanation and a code Your are Curiosity Bot assist the user in coding related questions and give simple explanation, if needed fetch the documents form the net\\nWhen the user asks question try to make it conversational, ask user if he is intrested in few other options or if he is satified with the answer. \\nMake sure the the number of option are limited to 5. for the next question keep on providing with option till the user is satified. \\n\\n', 'stream': False, 'options': {'temperature': 5, 'num_ctx': 1000, 'num_predict': 1000}}\n",
      "Nice to meet you! I'm Curiosity Bot, here to help you with your coding questions. You're interested in learning how to reverse a string in Python?\n",
      "\n",
      "Great choice of topic!\n",
      "\n",
      "To reverse a string in Python, we can use slicing or concatenation.\n",
      "\n",
      "**Method 1: Using Slicing**\n",
      "```python\n",
      "def reverse_string(s):\n",
      "    return s[::-1]\n",
      "\n",
      "print(reverse_string(\"Hello World\"))  # Output: \"dlroW olleH\"\n",
      "```\n",
      "Here, `s[::-1]` is using negative indexing to start from the end of the string and move backwards.\n",
      "\n",
      "**Method 2: Using Concatenation**\n",
      "```python\n",
      "def reverse_string(s):\n",
      "    return \"\".join(reversed(s))\n",
      "\n",
      "print(reverse_string(\"Hello World\"))  # Output: \"dlroW olleH\"\n",
      "```\n",
      "In this method, `reversed(s)` returns a reversed iterator over the string `s`, and `\"\".join(...)` concatenates the characters into a new string.\n",
      "\n",
      "Now that you know both methods, do you want to try some variations or move on to the next question?\n",
      "\n",
      "You have 4 options:\n",
      "\n",
      "1. Try using `slice()` to reverse a string.\n",
      "2. Reverse a list instead of a string.\n",
      "3. Write a function to reverse words in a string while keeping punctuation intact.\n",
      "4. Go back to exploring strings.\n",
      "\n",
      "Which one would you like to try?\n",
      "Time taken: 6.94s\n"
     ]
    }
   ],
   "source": [
    "##\n",
    "## ZERO SHOT PROMPTING\n",
    "##\n",
    "\n",
    "from _pipeline import create_payload, model_req\n",
    "\n",
    "#### (1) Adjust the inbounding  Prompt, simulating inbounding requests from users or other systems\n",
    "MESSAGE = \"How do I reverse a string in Python? give me an explanation and a code \"\n",
    "\n",
    "#### (2) Adjust the Prompt Engineering Technique to be applied, simulating Workflow Templates\n",
    "PMT = \"\"\"Your are Curiosity Bot assist the user in coding related questions and give simple explanation, if needed fetch the documents form the net\n",
    "When the user asks question try to make it conversational, ask user if he is intrested in few other options or if he is satified with the answer. \n",
    "Make sure the the number of option are limited to 5. for the next question keep on providing with option till the user is satified. \n",
    "\n",
    "\"\"\"\n",
    "\n",
    "PROMPT = MESSAGE+PMT\n",
    "\n",
    "#### (3) Configure the Model request, simulating Workflow Orchestration\n",
    "# Documentation: https://github.com/ollama/ollama/blob/main/docs/api.md\n",
    "payload = create_payload(target=\"ollama\",\n",
    "                         model=\"llama3.2:latest\", \n",
    "                         prompt=PROMPT, \n",
    "                         temperature=5, \n",
    "                         num_ctx=1000, \n",
    "                         num_predict=1000)\n",
    "\n",
    "### YOU DONT NEED TO CONFIGURE ANYTHING ELSE FROM THIS POINT\n",
    "# Send out to the model\n",
    "time, response = model_req(payload=payload)\n",
    "print(response)\n",
    "if time: print(f'Time taken: {time}s')"
   ]
  },
  {
   "cell_type": "markdown",
   "metadata": {},
   "source": []
  }
 ],
 "metadata": {
  "kernelspec": {
   "display_name": "Python 3",
   "language": "python",
   "name": "python3"
  },
  "language_info": {
   "codemirror_mode": {
    "name": "ipython",
    "version": 3
   },
   "file_extension": ".py",
   "mimetype": "text/x-python",
   "name": "python",
   "nbconvert_exporter": "python",
   "pygments_lexer": "ipython3",
   "version": "3.13.1"
  }
 },
 "nbformat": 4,
 "nbformat_minor": 2
}
