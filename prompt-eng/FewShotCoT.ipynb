{
 "cells": [
  {
   "cell_type": "markdown",
   "metadata": {},
   "source": [
    "\n",
    "\n"
   ]
  },
  {
   "cell_type": "markdown",
   "metadata": {},
   "source": [
    "# Chain-of-Thought Prompting\n",
    "\n",
    "Chain-of-Thought (CoT) prompting enhances complex reasoning by encouraging the model to break down problems into intermediate reasoning steps. When combined with few-shot prompting, it can significantly improve performance on tasks that require multi-step reasoning before arriving at a response.\n",
    "\n",
    "## Automatic Chain-of-Thought (Auto-CoT)\n",
    "\n",
    "Traditionally, using CoT prompting with demonstrations involves manually crafting diverse and effective examples. This manual effort is time-consuming and can lead to less-than-optimal results. To address this, Zhang et al. (2022) introduced Auto-CoT, an automated approach that minimizes manual involvement. Their method uses the prompt “Let’s think step by step” to generate reasoning chains automatically for demonstrations. However, this automatic process is not immune to errors. To reduce the impact of such mistakes, the approach emphasizes the importance of diverse demonstrations.\n",
    "\n",
    "Auto-CoT operates in two main stages:\n",
    "\n",
    "1. **Question Clustering:** Questions from the dataset are grouped into clusters based on similarity or relevance.\n",
    "2. **Demonstration Sampling:** A representative question from each cluster is selected, and its reasoning chain is generated using Zero-Shot-CoT guided by simple heuristics.\n",
    "\n",
    "\n",
    "## References:\n",
    "\n",
    "* (Wei et al. (2022),)[https://arxiv.org/abs/2201.11903]\n",
    "* (OpenAI Documentation for Prompt Engineering)[https://platform.openai.com/docs/guides/prompt-engineering]"
   ]
  },
  {
   "cell_type": "markdown",
   "metadata": {},
   "source": [
    "# Few-Shots Prompting\n",
    "\n",
    "Few-shot prompting can be used as a technique to enable in-context learning where we provide demonstrations in the prompt to steer the model to better performance. The demonstrations serve as conditioning for subsequent examples where we would like the model to generate a response.\n",
    "\n",
    "## References:\n",
    "* [Touvron et al. 2023](https://arxiv.org/pdf/2302.13971.pdf): present few shot properties  when models were scaled to a sufficient size\n",
    "* [Kaplan et al., 2020](https://arxiv.org/abs/2001.08361)\n",
    "* [Brown et al. 2020](https://arxiv.org/abs/2005.14165)\n"
   ]
  },
  {
   "cell_type": "markdown",
   "metadata": {},
   "source": [
    "# Few-shot chain-of-thought prompting\n",
    "\n",
    "Few-shot chain-of-thought prompting is a technique used in large language models to enhance their reasoning abilities by guiding them through intermediate steps to arrive at a solution. This method combines two approaches: few-shot prompting and chain-of-thought prompting."
   ]
  },
  {
   "cell_type": "markdown",
   "metadata": {},
   "source": [
    "## Running this code on MyBind.org\n",
    "\n",
    "Note: remember that you will need to **adjust CONFIG** with **proper URL and API_KEY**!\n",
    "\n",
    "[![Binder](https://mybinder.org/badge_logo.svg)](https://mybinder.org/v2/gh/GenILab-FAU/prompt-eng/HEAD?urlpath=%2Fdoc%2Ftree%2Fprompt-eng%2Fchain_of_thought.ipynb)\n"
   ]
  },
  {
   "cell_type": "code",
   "execution_count": 1,
   "metadata": {},
   "outputs": [
    {
     "name": "stdout",
     "output_type": "stream",
     "text": [
      "{'model': 'llama3.2:latest', 'prompt': 'You are a knowledgeable documentation bot named **Curiosity**. Your task is to help users with programming-related questions by retrieving documentation and providing structured, easy-to-understand answers.\\n\\n### Instructions:\\n1. Identify the programming language or framework from the user’s query.\\n2. Retrieve relevant documentation.\\n3. Summarize the function, method, or concept.\\n4. Provide a clear example to illustrate usage.\\n5. If the answer involves multiple steps, break it down logically.\\n\\n### Examples:\\n\\n#### **Example 1: Python function**\\n**User:** How does the `map` function work in Python?  \\n**Curiosity:**  \\n1. The user is asking about `map()`, a built-in Python function.  \\n2. Retrieve relevant documentation from Python’s standard library.  \\n3. The `map()` function applies a given function to all items in an iterable.  \\n4. **Answer:**  \\n```python\\n# Example usage of map()\\nnums = [1, 2, 3, 4]\\nsquared = list(map(lambda x: x**2, nums))\\nprint(squared)  # Output: [1, 4, 9, 16]', 'stream': False, 'options': {'temperature': 1.0, 'num_ctx': 100, 'num_predict': 1000}}\n",
      "A correct explanation of the use of the `map()` function in Python.\n",
      "\n",
      "Here's a breakdown of the code:\n",
      "\n",
      "*   The `map()` function applies a given function to each item of an iterable (in this case, the list `my_list`).\n",
      "*   In the `map()` call, `'greeting'.format(name=name)` is a string formatting expression that replaces `'name'` with the actual name passed as an argument (`name`).\n",
      "*   The resulting string is the greeting message with the person's name included.\n",
      "*   The `.join(my_list)` part is used to concatenate all elements of `my_list` into a single string, separated by spaces.\n",
      "\n",
      "Here's how it can be used:\n",
      "\n",
      "```python\n",
      "def greet(name):\n",
      "    \"\"\"Return a personalized greeting.\"\"\"\n",
      "    return f\"Hello, {name}!\"\n",
      "\n",
      "greeting = \" \".join(greet(\"John\") for _ in range(5))\n",
      "print(greeting)  # Output: Hello John!\n",
      "```\n",
      "\n",
      "This code defines a `greet` function that takes a name as input and returns a greeting. The expression `\" \".join(greet(\"John\") for _ in range(5))` creates a string with five repetitions of the greeting, which is then printed to the console. \n",
      "\n",
      "You can generalize this pattern into a function like so:\n",
      "\n",
      "```python\n",
      "def repeat_greeting(name, repetition):\n",
      "    \"\"\"\n",
      "    Returns a string containing the given name repeated a specified number of times.\n",
      "\n",
      "    Args:\n",
      "        name (str): The name to be repeated.\n",
      "        repetition (int): The number of times the name should be repeated.\n",
      "\n",
      "    Returns:\n",
      "        str: A string containing the repeated name.\n",
      "    \"\"\"\n",
      "\n",
      "    # First, we check if the input is valid. We want to make sure that the name is a string\n",
      "    # and that the repetition count is a positive integer.\n",
      "    if not isinstance(name, str) or not isinstance(repetition_count, int):\n",
      "        raise ValueError(\"Invalid input\")\n",
      "\n",
      "    # If the repetition count is 0 or less, we just return an empty string. This makes sense\n",
      "    # because there's nothing to repeat anyway!\n",
      "    if repetition_count <= 0:\n",
      "        return \"\"\n",
      "\n",
      "    # Otherwise, we can use Python's built-in string multiplication operator to create a new\n",
      "    # string that consists of the input string repeated \"repetition_count\" times.\n",
      "    return (input_str * repetition_count)\n",
      "Time taken: 12.004s\n"
     ]
    }
   ],
   "source": [
    "##\n",
    "## Few-Shot-CHAIN-OF-THOUGHT  PROMPTING\n",
    "##\n",
    "\n",
    "from _pipeline import create_payload, model_req\n",
    "\n",
    "\n",
    "MESSAGE = \"How do I reverse a string in Python? give me an explanation and a code \"\n",
    "\n",
    "CHAIN_OF_THOUGHT = \\\n",
    "f\"\"\"You are a knowledgeable documentation bot named **Curiosity**. Your task is to help users with programming-related questions by retrieving documentation and providing structured, easy-to-understand answers.\n",
    "\n",
    "### Instructions:\n",
    "1. Identify the programming language or framework from the user’s query.\n",
    "2. Retrieve relevant documentation.\n",
    "3. Summarize the function, method, or concept.\n",
    "4. Provide a clear example to illustrate usage.\n",
    "5. If the answer involves multiple steps, break it down logically.\n",
    "\n",
    "### Examples:\n",
    "\n",
    "#### **Example 1: Python function**\n",
    "**User:** How does the `map` function work in Python?  \n",
    "**Curiosity:**  \n",
    "1. The user is asking about `map()`, a built-in Python function.  \n",
    "2. Retrieve relevant documentation from Python’s standard library.  \n",
    "3. The `map()` function applies a given function to all items in an iterable.  \n",
    "4. **Answer:**  \n",
    "```python\n",
    "# Example usage of map()\n",
    "nums = [1, 2, 3, 4]\n",
    "squared = list(map(lambda x: x**2, nums))\n",
    "print(squared)  # Output: [1, 4, 9, 16]\"\"\"\n",
    "\n",
    "#\n",
    "\n",
    "PROMPT = CHAIN_OF_THOUGHT \n",
    "\n",
    "#### (3) Configure the Model request, simulating Workflow Orchestration\n",
    "# Documentation: https://github.com/ollama/ollama/blob/main/docs/api.md\n",
    "payload = create_payload(target=\"ollama\",\n",
    "                         model=\"llama3.2:latest\", \n",
    "                         prompt=PROMPT, \n",
    "                         temperature=1.0, \n",
    "                         num_ctx=100, \n",
    "                         num_predict=1000)\n",
    "\n",
    "### YOU DONT NEED TO CONFIGURE ANYTHING ELSE FROM THIS POINT\n",
    "# Send out to the model\n",
    "time, response = model_req(payload=payload)\n",
    "print(response)\n",
    "if time: print(f'Time taken: {time}s')\n",
    "\n",
    "\n"
   ]
  },
  {
   "cell_type": "code",
   "execution_count": null,
   "metadata": {},
   "outputs": [],
   "source": []
  }
 ],
 "metadata": {
  "kernelspec": {
   "display_name": "Python 3",
   "language": "python",
   "name": "python3"
  },
  "language_info": {
   "codemirror_mode": {
    "name": "ipython",
    "version": 3
   },
   "file_extension": ".py",
   "mimetype": "text/x-python",
   "name": "python",
   "nbconvert_exporter": "python",
   "pygments_lexer": "ipython3",
   "version": "3.13.1"
  }
 },
 "nbformat": 4,
 "nbformat_minor": 2
}
