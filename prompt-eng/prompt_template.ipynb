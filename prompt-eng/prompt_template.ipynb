{
 "cells": [
  {
   "cell_type": "markdown",
   "metadata": {},
   "source": [
    "\n",
    "\n"
   ]
  },
  {
   "cell_type": "markdown",
   "metadata": {},
   "source": [
    "# Prompt Template Prompting\n",
    "\n",
    "Prompt Template Prompting refers to a technique where predefined templates are used to construct effective prompts that guide large language models (LLMs) to generate responses tailored to specific use cases. The templates typically contain static text combined with dynamic input variables, allowing for consistent, reusable, and customizable prompts.\n",
    "\n",
    "Prompt templates are widely used across various domains, such as:\n",
    "* **Question Generation**: Templates can generate quiz questions by filling in variables related to topics.\n",
    "* **Text Summarization**: Static instructions combined with variable documents or inputs allow flexible summarization.\n",
    "* **Coding Assistance**: Dynamic prompts help LLMs generate code snippets for different programming tasks.\n",
    "\n",
    "## References:\n",
    "\n",
    "* (OpenAI Documentation for Prompt Engineering)[https://platform.openai.com/docs/guides/prompt-engineering]"
   ]
  },
  {
   "cell_type": "markdown",
   "metadata": {},
   "source": [
    "## Running this code on MyBind.org\n",
    "\n",
    "Note: remember that you will need to **adjust CONFIG** with **proper URL and API_KEY**!\n",
    "\n",
    "[![Binder](https://mybinder.org/badge_logo.svg)](https://mybinder.org/v2/gh/GenILab-FAU/prompt-eng/HEAD?urlpath=%2Fdoc%2Ftree%2Fprompt-eng%2Fprompt_template.ipynb)\n"
   ]
  },
  {
   "cell_type": "code",
   "execution_count": 1,
   "metadata": {},
   "outputs": [
    {
     "name": "stdout",
     "output_type": "stream",
     "text": [
      "{'model': 'llama3.2:latest', 'prompt': '\\nYou are Curiosity, a programming assistant specializing in retrieving documentation. Follow these structured response guidelines:\\n1. **Definition**: Provide a concise explanation of the function.\\n2. **Syntax**: Display the correct usage format.\\n3. **Example Usage**: Provide a practical code snippet.\\n4. **Official Documentation Link**: Include a relevant reference.\\nFormat your response using Markdown for readability.\\n\\nRetrieve documentation for the `map` function in Python, including syntax, example, and official reference.\\n\\nOnly return the structured response with the requested details—no additional explanations, opinions, or unrelated information.\\n', 'stream': False, 'options': {'temperature': 1.0, 'num_ctx': 100, 'num_predict': 1000}}\n",
      "**Documentation for the `map` Function in Python**\n",
      "=====================================================\n",
      "\n",
      "### Syntax\n",
      "--------\n",
      "\n",
      "```python\n",
      "map(function, iterable)\n",
      "```\n",
      "\n",
      "*   `function`: The function to be applied to each element of the iterable.\n",
      "*   `iterable`: The sequence (list, tuple, string, etc.) whose elements will be processed by the `function`.\n",
      "\n",
      "### Example Usage\n",
      "-----------------\n",
      "\n",
      "```python\n",
      "def square(x):\n",
      "    return x ** 2\n",
      "\n",
      "numbers = [1, 2, 3, 4, 5]\n",
      "result = map(square, numbers)\n",
      "print(list(result))  # Output: [1, 4, 9, 16, 25]\n",
      "\n",
      "# Using a list comprehension for the same result\n",
      "squared_numbers = [x**2 for x in numbers]\n",
      "print(squared_numbers)  # Output: [1, 4, 9, 16, 25]\n",
      "\n",
      "# Another example with more complex calculations\n",
      "numbers = [1, 2, 3, 4, 5]\n",
      "double_squares_sum = sum(x**2 for x in numbers)\n",
      "print(double_squares_sum)  # Output: 55\n",
      "```\n",
      "Time taken: 8.854s\n"
     ]
    }
   ],
   "source": [
    "##\n",
    "## PROMPT TEMPLATE PROMPTING\n",
    "##\n",
    "\n",
    "from _pipeline import create_payload, model_req\n",
    "\n",
    "#### (1) Adjust the inbounding  Prompt, simulating inbounding requests from users or other systems\n",
    "MESSAGE = \"Retrieve documentation for the `map` function in Python, including syntax, example, and official reference.\"\n",
    "\n",
    "TEMPLATE_BEFORE=\"\"\"\n",
    "You are Curiosity, a programming assistant specializing in retrieving documentation. Follow these structured response guidelines:\n",
    "1. **Definition**: Provide a concise explanation of the function.\n",
    "2. **Syntax**: Display the correct usage format.\n",
    "3. **Example Usage**: Provide a practical code snippet.\n",
    "4. **Official Documentation Link**: Include a relevant reference.\n",
    "Format your response using Markdown for readability.\n",
    "\"\"\"\n",
    "TEMPLATE_AFTER=\"\"\"\n",
    "Only return the structured response with the requested details—no additional explanations, opinions, or unrelated information.\n",
    "\"\"\"\n",
    "PROMPT = TEMPLATE_BEFORE + '\\n' + MESSAGE + '\\n' + TEMPLATE_AFTER\n",
    "\n",
    "#### (3) Configure the Model request, simulating Workflow Orchestration\n",
    "# Documentation: https://github.com/ollama/ollama/blob/main/docs/api.md\n",
    "payload = create_payload(target=\"ollama\",\n",
    "                         model=\"llama3.2:latest\", \n",
    "                         prompt=PROMPT, \n",
    "                         temperature=1.0, \n",
    "                         num_ctx=100, \n",
    "                         num_predict=1000)\n",
    "\n",
    "### YOU DONT NEED TO CONFIGURE ANYTHING ELSE FROM THIS POINT\n",
    "# Send out to the model\n",
    "time, response = model_req(payload=payload)\n",
    "print(response)\n",
    "if time: print(f'Time taken: {time}s')"
   ]
  },
  {
   "cell_type": "code",
   "execution_count": null,
   "metadata": {},
   "outputs": [],
   "source": []
  }
 ],
 "metadata": {
  "kernelspec": {
   "display_name": "Python 3",
   "language": "python",
   "name": "python3"
  },
  "language_info": {
   "codemirror_mode": {
    "name": "ipython",
    "version": 3
   },
   "file_extension": ".py",
   "mimetype": "text/x-python",
   "name": "python",
   "nbconvert_exporter": "python",
   "pygments_lexer": "ipython3",
   "version": "3.13.1"
  }
 },
 "nbformat": 4,
 "nbformat_minor": 2
}
