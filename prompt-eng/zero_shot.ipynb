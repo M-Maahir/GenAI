{
 "cells": [
  {
   "cell_type": "markdown",
   "metadata": {},
   "source": [
    "\n",
    "\n"
   ]
  },
  {
   "cell_type": "markdown",
   "metadata": {},
   "source": [
    "# Zero-Shot Prompting\n",
    "\n",
    "Zero-shot prompting refers to a technique in prompt engineering where you provide a model with a task without any prior examples. The model is expected to understand and generate a response or complete the task purely based on the given instruction.\n",
    "\n",
    "In other words, the model is given \"zero\" prior training examples or demonstrations in the prompt and relies on its pre-trained knowledge to infer what is needed.\n",
    "\n",
    "## References:\n",
    "* [Wei et al. (2022)](https://arxiv.org/pdf/2109.01652.pdf): demonstrate how instruction tuning improves zero-shot learning "
   ]
  },
  {
   "cell_type": "markdown",
   "metadata": {},
   "source": [
    "## Running this code on MyBind.org\n",
    "\n",
    "Note: remember that you will need to **adjust CONFIG** with **proper URL and API_KEY**!\n",
    "\n",
    "[![Binder](https://mybinder.org/badge_logo.svg)](https://mybinder.org/v2/gh/GenILab-FAU/prompt-eng/HEAD?urlpath=%2Fdoc%2Ftree%2Fprompt-eng%2Fzero_shot.ipynb)\n",
    "\n"
   ]
  },
  {
   "cell_type": "code",
   "execution_count": null,
   "metadata": {},
   "outputs": [
    {
     "name": "stdout",
     "output_type": "stream",
     "text": [
      "{'model': 'llama3.2:latest', 'prompt': 'How do I reverse a string in Python? give me an explanation and a code ', 'stream': False, 'options': {'temperature': 5, 'num_ctx': 100, 'num_predict': 100}}\n",
      "**Reversing a String in Python**\n",
      "\n",
      "Reversing a string is a common operation that can be done using several methods. In this example, we will discuss two popular methods: slicing and iterating.\n",
      "\n",
      "**Method 1: Slicing**\n",
      "```python\n",
      "def reverse_string(s):\n",
      "    return s[::-1]\n",
      "\n",
      "original_str = \"hello\"\n",
      "reversed_str = reverse_string(original_str)\n",
      "print(reversed_str)  # Output: \"olleh\"\n",
      "```\n",
      "In this method, we use Python\n",
      "Time taken: 3.69s\n"
     ]
    }
   ],
   "source": [
    "##\n",
    "## ZERO SHOT PROMPTING\n",
    "##\n",
    "\n",
    "from _pipeline import create_payload, model_req\n",
    "\n",
    "#### (1) Adjust the inbounding  Prompt, simulating inbounding requests from users or other systems\n",
    "MESSAGE = \"How do I reverse a string in Python? give me an explanation and a code \"\n",
    "\n",
    "#### (2) Adjust the Prompt Engineering Technique to be applied, simulating Workflow Templates\n",
    "PROMPT = MESSAGE \n",
    "\n",
    "#### (3) Configure the Model request, simulating Workflow Orchestration\n",
    "# Documentation: https://github.com/ollama/ollama/blob/main/docs/api.md\n",
    "payload = create_payload(target=\"ollama\",\n",
    "                         model=\"llama3.2:latest\", \n",
    "                         prompt=PROMPT, \n",
    "                         temperature=5, \n",
    "                         num_ctx=100, \n",
    "                         num_predict=100)\n",
    "\n",
    "### YOU DONT NEED TO CONFIGURE ANYTHING ELSE FROM THIS POINT\n",
    "# Send out to the model\n",
    "time, response = model_req(payload=payload)\n",
    "print(response)\n",
    "if time: print(f'Time taken: {time}s')"
   ]
  },
  {
   "cell_type": "markdown",
   "metadata": {},
   "source": [
    "---\n",
    "\n",
    "## How to improve it?\n",
    "\n",
    "* **Use Clear and Concise Instructions**: Be specific about the task and desired format.\n",
    "    * Bad Prompt: “Summarize this.”\n",
    "    * Good Prompt: “Summarize this paragraph in one sentence.”\n",
    "* **Add Context**: Providing background can help the model interpret ambiguous prompts better.\n",
    "* **Specify Output Format**: If a particular structure is needed, describe it in the instruction."
   ]
  },
  {
   "cell_type": "markdown",
   "metadata": {},
   "source": []
  },
  {
   "cell_type": "code",
   "execution_count": null,
   "metadata": {},
   "outputs": [
    {
     "name": "stdout",
     "output_type": "stream",
     "text": [
      "{'model': 'llama3.2:latest', 'prompt': \"getting a syntax error for prntln('GenAI)\", 'stream': False, 'options': {'temperature': 5, 'num_ctx': 100, 'num_predict': 0}}\n",
      "It seems like you are getting a `SyntaxError` in Python because you're using incorrect quotes around your string literal.\n",
      "\n",
      "In Python, it is generally considered best practice to use either:\n",
      "\n",
      "* Single quotes: `'s'`\n",
      "* Double quotes: `\"string\"`\n",
      "\n",
      "In your case, the correct code should be:\n",
      "\n",
      "```python\n",
      "print('Hello World')\n",
      "```\n",
      "\n",
      "or \n",
      "\n",
      "```python\n",
      "print(\"Hello World\")\n",
      "```\n",
      "\n",
      "Note that the backslash (\\) at the end of each line does not add a newline to this print. When you hit enter to start a new line within your Python program, all the input and statements until next line of 'enter'  should be executed on it for any other reason also like \"try-except\", \"for\", or so but with \\ is completely different , the back slashes just indicate new lines for our comfort but do not work here in actuality\n",
      "\n",
      "```python\n",
      "# A dictionary that stores students with their respective average test scores\n",
      "student_avg_scores = {\n",
      "    \"John\": 80,\n",
      "    \"Alice\": 85,\n",
      "    \"Bob\": 70\n",
      "}\n",
      "\n",
      "def get_student_scores(student_name):\n",
      "    \"\"\"\n",
      "    This function retrieves the test scores of a given student.\n",
      "\n",
      "    Parameters:\n",
      "    ----------\n",
      "    student_name : str\n",
      "        The name of the student for whom to retrieve their scores\n",
      "\n",
      "    Returns:\n",
      "    -------\n",
      "    int or list\n",
      "        If the student exists, their score is returned. Otherwise, a message saying so.\n",
      "    \"\"\"\n",
      "\n",
      "    if \"students\" not in locals():\n",
      "        return False\n",
      "\n",
      "    students = {\n",
      "        \"Alex\": 10,\n",
      "        \"Emily\": 8,\n",
      "        \"Ryan\": 7,\n",
      "    }\n",
      "\n",
      "    result = None\n",
      "    for s in (\"Liz\", \"Sara\", \"Tom\",):\n",
      "        student_name = \"Student {} has a name {}\".format(s, (student_name in students))\n",
      "        print(student_name)\n",
      "        \n",
      "        try:\n",
      "            print(\"This key exists\" + (student_name in keys ))\n",
      "            print(student_name)\n",
      "            answer = (str)(int(students))\n",
      "\n",
      "            return print((str) (answer)) \n",
      "        except NameError :\n",
      "           return student_name \n",
      "\n",
      "students.append(13)\n",
      "students.append(6)\n",
      "key2='abc'\n",
      "for i,student in enumerate(students):\n",
      "\n",
      "  key1=str(i)   \n",
      "  answer= str(student+2)\n",
      "  \n",
      "\n",
      "\n",
      "\n",
      "students=  []\n",
      "Time taken: 11.926s\n"
     ]
    }
   ],
   "source": [
    "##\n",
    "## ZERO SHOT PROMPTING\n",
    "##\n",
    "\n",
    "from _pipeline import create_payload, model_req\n",
    "\n",
    "#### (1) Adjust the inbounding  Prompt, simulating inbounding requests from users or other systems\n",
    "MESSAGE = \"getting a syntax error for prntln('GenAI)\"\n",
    "\n",
    "#### (2) Adjust the Prompt Engineering Technique to be applied, simulating Workflow Templates\n",
    "PROMPT = MESSAGE \n",
    "\n",
    "#### (3) Configure the Model request, simulating Workflow Orchestration\n",
    "# Documentation: https://github.com/ollama/ollama/blob/main/docs/api.md\n",
    "payload = create_payload(target=\"ollama\",\n",
    "                         model=\"llama3.2:latest\", \n",
    "                         prompt=PROMPT, \n",
    "                         temperature=5, \n",
    "                         num_ctx=100, \n",
    "                         num_predict=00)\n",
    "\n",
    "### YOU DONT NEED TO CONFIGURE ANYTHING ELSE FROM THIS POINT\n",
    "# Send out to the model\n",
    "time, response = model_req(payload=payload)\n",
    "print(response)\n",
    "if time: print(f'Time taken: {time}s')"
   ]
  },
  {
   "cell_type": "markdown",
   "metadata": {},
   "source": []
  }
 ],
 "metadata": {
  "kernelspec": {
   "display_name": "Python 3",
   "language": "python",
   "name": "python3"
  },
  "language_info": {
   "codemirror_mode": {
    "name": "ipython",
    "version": 3
   },
   "file_extension": ".py",
   "mimetype": "text/x-python",
   "name": "python",
   "nbconvert_exporter": "python",
   "pygments_lexer": "ipython3",
   "version": "3.13.1"
  }
 },
 "nbformat": 4,
 "nbformat_minor": 2
}
